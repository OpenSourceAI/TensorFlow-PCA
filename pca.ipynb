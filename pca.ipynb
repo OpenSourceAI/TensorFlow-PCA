{
  "nbformat": 4,
  "nbformat_minor": 0,
  "metadata": {
    "colab": {
      "name": "pca.ipynb",
      "version": "0.3.2",
      "provenance": [],
      "collapsed_sections": []
    },
    "kernelspec": {
      "name": "python3",
      "display_name": "Python 3"
    },
    "accelerator": "GPU"
  },
  "cells": [
    {
      "metadata": {
        "id": "F3NVqtgVyoag",
        "colab_type": "code",
        "colab": {}
      },
      "cell_type": "code",
      "source": [
        "import tensorflow as tf\n",
        "# 使用Eager Execution动态图机制\n",
        "tf.enable_eager_execution()\n",
        "import numpy as np\n",
        "from sklearn import datasets\n",
        "import seaborn as sns\n",
        "import matplotlib.pyplot as plt"
      ],
      "execution_count": 0,
      "outputs": []
    },
    {
      "metadata": {
        "id": "ane8uJ4SINH2",
        "colab_type": "code",
        "colab": {}
      },
      "cell_type": "code",
      "source": [
        "data = datasets.load_iris(return_X_y=False)"
      ],
      "execution_count": 0,
      "outputs": []
    },
    {
      "metadata": {
        "id": "s6uF72QOyyNK",
        "colab_type": "code",
        "colab": {}
      },
      "cell_type": "code",
      "source": [
        "# PCA\n",
        "def pca(x,dim = 2):\n",
        "    with tf.name_scope(\"PCA\"):\n",
        "        \n",
        "        m,n= tf.to_float(x.get_shape()[0]),tf.to_int32(x.get_shape()[1])\n",
        "        print(n)\n",
        "        assert not tf.assert_less(dim,n)\n",
        "        mean = tf.reduce_mean(x,axis=1)\n",
        "        print(mean)\n",
        "        x_new = x - tf.reshape(mean,(-1,1))\n",
        "        cov = tf.matmul(x_new,x_new,transpose_a=True)/(m - 1) \n",
        "        e,v = tf.linalg.eigh(cov,name=\"eigh\")\n",
        "        e_index_sort = tf.math.top_k(e,sorted=True,k=dim)[1]\n",
        "        v_new = tf.gather(v,indices=e_index_sort)\n",
        "        pca = tf.matmul(x_new,v_new,transpose_b=True)\n",
        "    return pca"
      ],
      "execution_count": 0,
      "outputs": []
    },
    {
      "metadata": {
        "id": "RWoaAQ3uIZes",
        "colab_type": "code",
        "colab": {}
      },
      "cell_type": "code",
      "source": [
        "pca_data = tf.constant(np.reshape(data.data,(data.data.shape[0],-1)),dtype=tf.float32)"
      ],
      "execution_count": 0,
      "outputs": []
    },
    {
      "metadata": {
        "id": "u9HENePIIZhb",
        "colab_type": "code",
        "colab": {
          "base_uri": "https://localhost:8080/",
          "height": 420
        },
        "outputId": "10799a28-64ff-40b9-a4c0-4847e25d805e"
      },
      "cell_type": "code",
      "source": [
        "pca_data = pca(pca_data,dim=2)"
      ],
      "execution_count": 117,
      "outputs": [
        {
          "output_type": "stream",
          "text": [
            "tf.Tensor(4, shape=(), dtype=int32)\n",
            "tf.Tensor(\n",
            "[2.5500002 2.375     2.35      2.35      2.5500002 2.8500001 2.425\n",
            " 2.5249999 2.2250001 2.4       2.7       2.5000002 2.325     2.125\n",
            " 2.8000002 3.        2.75      2.575     2.875     2.675     2.6750002\n",
            " 2.675     2.35      2.6499999 2.5750003 2.45      2.6       2.6\n",
            " 2.5500002 2.425     2.425     2.675     2.725     2.825     2.425\n",
            " 2.4       2.625     2.5       2.225     2.55      2.525     2.1\n",
            " 2.275     2.675     2.8       2.375     2.675     2.3500001 2.675\n",
            " 2.4750001 4.075     3.9       4.1       3.275     3.85      3.575\n",
            " 3.975     2.9       3.85      3.3       2.875     3.6499999 3.3\n",
            " 3.775     3.35      3.8999999 3.65      3.4       3.6       3.275\n",
            " 3.9250002 3.55      3.8000002 3.6999998 3.7250001 3.8500001 3.9500003\n",
            " 4.1       3.725     3.1999998 3.2       3.15      3.4       3.85\n",
            " 3.6       3.875     3.9999998 3.575     3.5       3.325     3.4250002\n",
            " 3.775     3.3999999 2.9       3.45      3.5249999 3.525     3.6750002\n",
            " 2.925     3.475     4.525     3.875     4.525     4.15      4.375\n",
            " 4.825     3.4       4.5750003 4.2       4.85      4.2       4.0750003\n",
            " 4.35      3.8       4.025     4.3       4.2       5.1       4.875\n",
            " 3.675     4.525     3.8249998 4.8       3.925     4.45      4.55\n",
            " 3.9       3.95      4.225     4.4       4.55      5.0249996 4.25\n",
            " 3.9250002 3.925     4.7749996 4.425     4.2       3.9       4.375\n",
            " 4.45      4.35      3.875     4.55      4.55      4.3       3.9250002\n",
            " 4.175     4.325     3.9499998], shape=(150,), dtype=float32)\n"
          ],
          "name": "stdout"
        }
      ]
    },
    {
      "metadata": {
        "id": "ZrcIrr0SIZkd",
        "colab_type": "code",
        "colab": {
          "base_uri": "https://localhost:8080/",
          "height": 265
        },
        "outputId": "68211df1-1188-4b18-f354-b70e76c512a6"
      },
      "cell_type": "code",
      "source": [
        "color_mapping = {0: sns.xkcd_rgb['bright purple'],\\\n",
        "        1: sns.xkcd_rgb['pale red'], 2: sns.xkcd_rgb['ochre']}\n",
        "colors = list(map(lambda x: color_mapping[x], data.target))\n",
        "plt.scatter(pca_data[:, 0], pca_data[:, 1], c=colors)\n",
        "plt.show()"
      ],
      "execution_count": 99,
      "outputs": [
        {
          "output_type": "display_data",
          "data": {
            "image/png": "[encoded data removed]",
            "text/plain": [
              "<matplotlib.figure.Figure at 0x7f2ee72d7278>"
            ]
          },
          "metadata": {
            "tags": []
          }
        }
      ]
    },
    {
      "metadata": {
        "id": "Ca1hDG4sIZnF",
        "colab_type": "code",
        "colab": {}
      },
      "cell_type": "code",
      "source": [
        ""
      ],
      "execution_count": 0,
      "outputs": []
    },
    {
      "metadata": {
        "id": "MeP7PWEGGp2N",
        "colab_type": "code",
        "colab": {}
      },
      "cell_type": "code",
      "source": [
        ""
      ],
      "execution_count": 0,
      "outputs": []
    },
    {
      "metadata": {
        "id": "yfIv0RmMGRlx",
        "colab_type": "code",
        "colab": {}
      },
      "cell_type": "code",
      "source": [
        ""
      ],
      "execution_count": 0,
      "outputs": []
    }
  ]
}